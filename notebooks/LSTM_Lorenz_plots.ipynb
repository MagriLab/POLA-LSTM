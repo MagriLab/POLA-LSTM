{
 "cells": [
  {
   "cell_type": "code",
   "execution_count": null,
   "metadata": {},
   "outputs": [],
   "source": [
    "from lstm_model import build_open_loop_lstm, load_open_loop_lstm\n",
    "from data_processing import create_training_split, df_training_split, create_df_3d, create_window_closed_loop, add_new_pred, compute_lyapunov_time_arr, train_valid_test_split\n",
    "import tensorflow_datasets as tfds\n",
    "import time\n",
    "import tensorflow as tf\n",
    "import numpy as np\n",
    "import pandas as pd\n",
    "import matplotlib.pyplot as plt\n",
    "plt.rcParams['figure.facecolor'] = 'white'\n",
    "import seaborn as sns"
   ]
  },
  {
   "cell_type": "code",
   "execution_count": null,
   "metadata": {},
   "outputs": [],
   "source": [
    "def df_train_valid_test_split(df, train_ratio=0.6, valid_ratio=0.2):\n",
    "    len_df_col = len(df)\n",
    "    train = np.array(df[:, 0:int(len_df_col*train_ratio)])\n",
    "    valid = np.array(df[:, int(len_df_col*train_ratio): int(len_df_col*(train_ratio + valid_ratio))])\n",
    "    test = np.array(df[:, int(len_df_col*(train_ratio+valid_ratio)):])\n",
    "    return train, valid, test"
   ]
  },
  {
   "cell_type": "code",
   "execution_count": null,
   "metadata": {},
   "outputs": [],
   "source": [
    "mydf = np.genfromtxt('Lorenz_Data/CSV/Lorenz_trans_001.csv', delimiter=',')\n",
    "time = mydf[0, :]\n",
    "mydf = mydf[1:, :]\n",
    "df_train, df_test = df_training_split(mydf)\n",
    "time_train, time_valid, time_test = train_valid_test_split(time)\n",
    "x_train, x_valid, x_test = train_valid_test_split(mydf[0, :])\n",
    "y_train, y_valid, y_test = train_valid_test_split(mydf[1, :])\n",
    "z_train, z_valid, z_test = train_valid_test_split(mydf[2, :])\n",
    "window_size = 50\n",
    "batch_size = 32\n",
    "shuffle_buffer_size = df_train.shape[0]\n",
    "train_dataset = create_df_3d(df_train.transpose(\n",
    "), window_size, batch_size, shuffle_buffer_size)\n",
    "test_dataset = create_df_3d(df_test.transpose(), window_size, batch_size, 1)"
   ]
  },
  {
   "cell_type": "code",
   "execution_count": null,
   "metadata": {},
   "outputs": [],
   "source": [
    "fig, (ax1, ax2, ax3) = plt.subplots(\n",
    "    3, sharex=True, sharey=True)  # , figsize=(15, 15))\n",
    "fig.suptitle('Windowing of Training Data')\n",
    "ax1.plot(time_train, x_train)\n",
    "ax1.set_ylabel('x')\n",
    "ax2.plot(time_train, y_train)\n",
    "ax2.set_ylabel('y')\n",
    "ax3.plot(time_train, z_train, label='Training Data')\n",
    "ax3.set_ylabel('z')\n",
    "ax3.set_xlabel('t')\n",
    "ax3.legend(loc='center left', bbox_to_anchor=(1, 1.5))\n",
    "#fig.savefig('Images/train.png', dpi=200, facecolor=\"w\", bbox_inches='tight')"
   ]
  },
  {
   "cell_type": "code",
   "execution_count": null,
   "metadata": {},
   "outputs": [],
   "source": [
    "fig, (ax1, ax2, ax3) = plt.subplots(\n",
    "    3, sharex=True, sharey=True)  # , figsize=(15, 15))\n",
    "fig.suptitle('Split of the Data')\n",
    "ax1.plot(time_train, x_train, time_valid, x_valid, time_test, x_test)\n",
    "ax1.set_ylabel('x')\n",
    "ax2.plot(time_train, y_train, time_valid, y_valid, time_test, y_test)\n",
    "ax2.set_ylabel('y')\n",
    "ax3.plot(time_train, z_train, label='Training Data')\n",
    "ax3.plot(time_valid, z_valid, label='Validation Data')\n",
    "ax3.plot(time_test, z_test, label='Test Data')\n",
    "ax3.set_ylabel('z')\n",
    "ax3.set_xlabel('t')\n",
    "# ax3.set_xlim(0,1)\n",
    "ax3.legend(loc='center left', bbox_to_anchor=(1, 1.5))\n",
    "#fig.savefig('Images/train_valid_test_split.png', dpi=200, facecolor=\"w\", bbox_inches='tight')"
   ]
  },
  {
   "cell_type": "code",
   "execution_count": null,
   "metadata": {},
   "outputs": [],
   "source": [
    "model_checkpoint = 'models/oloop_lstm/200_epoch_cp'\n",
    "model = build_open_loop_lstm()\n",
    "# Restore the weights\n",
    "model.load_weights(model_checkpoint)"
   ]
  },
  {
   "cell_type": "code",
   "execution_count": null,
   "metadata": {},
   "outputs": [],
   "source": [
    "test_window = create_window_closed_loop(df_test.transpose(), 0)\n",
    "predictions = model.predict(test_window)\n",
    "for iteration in range(1, 1950):\n",
    "    test_window = create_window_closed_loop(\n",
    "        df_test.transpose(), iteration, predictions)\n",
    "    new_pred = model.predict(test_window)\n",
    "    predictions = add_new_pred(predictions, new_pred)\n",
    "predictions.shape"
   ]
  },
  {
   "cell_type": "code",
   "execution_count": null,
   "metadata": {},
   "outputs": [],
   "source": [
    "lyapunov_time = compute_lyapunov_time_arr(time_test)\n",
    "lyapunov_path = 'Images/Lyapunov_wide_valid.png'"
   ]
  },
  {
   "cell_type": "code",
   "execution_count": null,
   "metadata": {},
   "outputs": [],
   "source": [
    "pred_closed_loop = predictions\n",
    "test_time_end = 50+len(predictions)\n",
    "fig, axs = plt.subplots(3, 2, sharey=True, facecolor=\"white\", figsize=(15, 15))\n",
    "fig.suptitle('Closed Loop LSTM Prediction')\n",
    "axs[0, 0].plot(lyapunov_time[:test_time_end],\n",
    "               x_test[50:test_time_end], label='True Data')\n",
    "axs[0, 0].plot(lyapunov_time[:test_time_end],\n",
    "               pred_closed_loop[:, 0], '--', label='RNN Prediction')\n",
    "axs[0, 0].set_ylabel('x')\n",
    "sns.kdeplot(x_test[50:test_time_end], vertical=True,\n",
    "            color='tab:blue', ax=axs[0, 1])\n",
    "sns.kdeplot(pred_closed_loop[:, 0], vertical=True,\n",
    "            color='tab:orange', ax=axs[0, 1])\n",
    "axs[1, 0].plot(lyapunov_time[:test_time_end],\n",
    "               y_test[50:test_time_end], label='data')\n",
    "axs[1, 0].plot(lyapunov_time[:test_time_end], pred_closed_loop[:,\n",
    "               1], '--', label='RNN prediction on test data')\n",
    "axs[1, 0].set_ylabel('y')\n",
    "sns.kdeplot(y_test[50:test_time_end], vertical=True,\n",
    "            color='tab:blue', ax=axs[1, 1])\n",
    "sns.kdeplot(pred_closed_loop[:, 1], vertical=True,\n",
    "            color='tab:orange', ax=axs[1, 1])\n",
    "axs[2, 0].plot(lyapunov_time[:test_time_end],\n",
    "               z_test[50:test_time_end], label='Numerical Solution')\n",
    "axs[2, 0].plot(lyapunov_time[:test_time_end],\n",
    "               pred_closed_loop[:, 2], '--', label='LSTM prediction')\n",
    "axs[2, 0].set_ylabel('z')\n",
    "axs[2, 0].set_xlabel('Lyapunov time')\n",
    "axs[2, 0].set_ylim(-1, 1)\n",
    "sns.kdeplot(z_test[50:test_time_end], vertical=True,\n",
    "            color='tab:blue', ax=axs[2, 1])\n",
    "sns.kdeplot(pred_closed_loop[:, 2], vertical=True,\n",
    "            color='tab:orange', ax=axs[2, 1])\n",
    "# ax3.set_xlim(5,10)\n",
    "axs[2, 0].legend(loc='center left', bbox_to_anchor=(2.3, 2.0))\n",
    "plt.show()\n",
    "#fig.savefig(lyapunov_path, dpi=1000, facecolor=\"w\", bbox_inches='tight')"
   ]
  },
  {
   "cell_type": "code",
   "execution_count": null,
   "metadata": {},
   "outputs": [],
   "source": [
    "pred_closed_loop = predictions\n",
    "test_time_end = 50+len(predictions)\n",
    "fig, (ax1, ax2, ax3) = plt.subplots(3, sharex=True,\n",
    "                                    sharey=True, facecolor=\"white\")  # , figsize=(15, 15))\n",
    "fig.suptitle('Closed Loop LSTM Prediction')\n",
    "ax1.plot(lyapunov_time[:test_time_end],\n",
    "         x_test[50:test_time_end], label='True Data')\n",
    "ax1.plot(lyapunov_time[:test_time_end],\n",
    "         pred_closed_loop[:, 0], '--', label='RNN Prediction')\n",
    "ax1.set_ylabel('x')\n",
    "\n",
    "ax2.plot(lyapunov_time[:test_time_end], y_test[50:test_time_end], label='data')\n",
    "ax2.plot(lyapunov_time[:test_time_end], pred_closed_loop[:,\n",
    "         1], '--', label='RNN prediction on test data')\n",
    "ax2.set_ylabel('y')\n",
    "ax3.plot(lyapunov_time[:test_time_end],\n",
    "         z_test[50:test_time_end], label='True Data')\n",
    "ax3.plot(lyapunov_time[:test_time_end],\n",
    "         pred_closed_loop[:, 2], '--', label='LSTM prediction')\n",
    "ax3.set_ylabel('z')\n",
    "ax3.set_xlabel('Lyapunov time')\n",
    "ax3.set_ylim(-1, 1)\n",
    "# ax3.set_xlim(5,10)\n",
    "ax3.legend(loc='center left', bbox_to_anchor=(1, 2.0))\n",
    "plt.show()\n",
    "#fig.savefig(lyapunov_path, dpi=1000, facecolor=\"w\", bbox_inches='tight')"
   ]
  },
  {
   "cell_type": "code",
   "execution_count": null,
   "metadata": {},
   "outputs": [],
   "source": [
    "lyapunov_path = 'Images/Lyapunov_wide_valid.png'\n",
    "pred_closed_loop = predictions\n",
    "test_time_end = 50 + len(predictions)\n",
    "fig, (ax1, ax2, ax3) = plt.subplots(3, sharex=True,\n",
    "                                    sharey=True, facecolor=\"white\")  # , figsize=(15, 15))\n",
    "fig.suptitle('LSTM Prediction on Test Data')\n",
    "ax1.plot(lyapunov_time[:test_time_end], x_test[50:test_time_end], label='data')\n",
    "ax1.plot(lyapunov_time[:test_time_end], pred_closed_loop[:,\n",
    "         0], '--', label='RNN prediction on test data')\n",
    "ax1.set_ylabel('x')\n",
    "\n",
    "ax2.plot(lyapunov_time[:test_time_end], y_test[50:test_time_end], label='data')\n",
    "ax2.plot(lyapunov_time[:test_time_end], pred_closed_loop[:,\n",
    "         1], '--', label='RNN prediction on test data')\n",
    "ax2.set_ylabel('y')\n",
    "ax3.plot(lyapunov_time[:test_time_end], z_test[50:test_time_end], label='Data')\n",
    "ax3.plot(lyapunov_time[:test_time_end],\n",
    "         pred_closed_loop[:, 2], '--', label='LSTM Prediction')\n",
    "ax3.set_ylabel('z')\n",
    "ax3.set_xlabel('Lyapunov time')\n",
    "ax3.set_ylim(-1, 1)\n",
    "# ax3.set_xlim(0,5)\n",
    "ax3.legend(loc='center left', bbox_to_anchor=(1, 2.0))\n",
    "plt.show()\n",
    "\n",
    "#fig.savefig(lyapunov_path, dpi=1000, facecolor=\"w\", bbox_inches='tight')"
   ]
  },
  {
   "cell_type": "code",
   "execution_count": null,
   "metadata": {},
   "outputs": [],
   "source": [
    "error_lyapunov_time = np.abs(df_test.transpose()[50:, :] - predictions)\n",
    "test_time_end = 50 + len(predictions)\n",
    "fig, (ax1, ax2, ax3) = plt.subplots(3, sharex=True,\n",
    "                                    sharey=True, facecolor=\"white\")  # , figsize=(15, 15))\n",
    "fig.suptitle('LSTM Prediction on Test Data')\n",
    "ax1.plot(lyapunov_time[:test_time_end], error_lyapunov_time[:, 0])\n",
    "ax1.set_ylabel('x')\n",
    "ax2.plot(lyapunov_time[:test_time_end], error_lyapunov_time[:, 1])\n",
    "ax2.set_ylabel('y')\n",
    "ax3.plot(lyapunov_time[:test_time_end], error_lyapunov_time[:, 2])\n",
    "ax3.set_ylabel('z')\n",
    "ax3.set_xlabel('Lyapunov time')\n",
    "ax3.set_yscale('symlog')\n",
    "# ax3.set_ylim(-0.1,10)\n",
    "# ax3.set_xlim(0,5)\n",
    "ax3.legend(loc='center left', bbox_to_anchor=(1, 2.0))\n",
    "plt.show()"
   ]
  },
  {
   "cell_type": "code",
   "execution_count": null,
   "metadata": {},
   "outputs": [],
   "source": [
    "pred_closed_loop = predictions\n",
    "test_time_end = 50 + len(predictions)\n",
    "fig, (ax1, ax2, ax3) = plt.subplots(3, sharex=True,\n",
    "                                    sharey=True, facecolor=\"white\")  # , figsize=(15, 15))\n",
    "fig.suptitle('LSTM Prediction on Test Data')\n",
    "ax1.plot(time_test[50:test_time_end], x_test[50:test_time_end], label='data')\n",
    "ax1.plot(time_test[50:test_time_end], pred_closed_loop[:, 0],\n",
    "         '--', label='RNN prediction on test data')\n",
    "ax1.set_ylabel('x')\n",
    "\n",
    "ax2.plot(time_test[50:test_time_end], y_test[50:test_time_end], label='data')\n",
    "ax2.plot(time_test[50:test_time_end], pred_closed_loop[:, 1],\n",
    "         '--', label='RNN prediction on test data')\n",
    "ax2.set_ylabel('y')\n",
    "ax3.plot(time_test[50:test_time_end], z_test[50:test_time_end], label='data')\n",
    "ax3.plot(time_test[50:test_time_end], pred_closed_loop[:, 2],\n",
    "         '--', label='LSTM prediction on test data')\n",
    "ax3.set_ylabel('z')\n",
    "ax3.set_xlabel('t')\n",
    "ax3.set_ylim(-1, 1)\n",
    "ax3.legend(loc='center left', bbox_to_anchor=(1, 2.0))\n",
    "ax3.set_xlim(70, 75)\n",
    "plt.show()"
   ]
  },
  {
   "cell_type": "code",
   "execution_count": null,
   "metadata": {},
   "outputs": [],
   "source": [
    "forecast = model.predict(test_dataset)\n",
    "testation_filepath = 'Results/prediction_testation'"
   ]
  },
  {
   "cell_type": "code",
   "execution_count": null,
   "metadata": {},
   "outputs": [],
   "source": [
    "forecast = model.predict(test_dataset)\n",
    "fig, (ax1, ax2, ax3) = plt.subplots(\n",
    "    3, sharex=True, sharey=True)  # , figsize=(15, 15))\n",
    "fig.suptitle('LSTM Prediction on testation Data')\n",
    "ax1.plot(time_test[50:], x_test[50:], label='data')\n",
    "ax1.plot(time_test[50:], forecast[:, 0], '--',\n",
    "         label='RNN prediction on test data')\n",
    "ax1.set_ylabel('x')\n",
    "ax2.plot(time_test[50:], y_test[50:], label='data')\n",
    "ax2.plot(time_test[50:], forecast[:, 1], '--',\n",
    "         label='RNN prediction on test data')\n",
    "ax2.set_ylabel('y')\n",
    "ax3.plot(time_test[50:], z_test[50:], label='data')\n",
    "ax3.plot(time_test[50:], forecast[:, 2], '--',\n",
    "         label='LSTM prediction on test data')\n",
    "ax3.set_ylabel('z')\n",
    "ax3.set_xlabel('t')\n",
    "ax3.set_ylim(-1, 1)\n",
    "ax3.legend(loc='center left', bbox_to_anchor=(1, 2.0))\n",
    "#fig.savefig(testation_filepath, dpi=1000, facecolor=\"w\", bbox_inches='tight')"
   ]
  },
  {
   "cell_type": "code",
   "execution_count": null,
   "metadata": {},
   "outputs": [],
   "source": [
    "err = df_test.transpose()[50:, :] - forecast\n",
    "error_filepath = 'Results/absolute_error'"
   ]
  },
  {
   "cell_type": "code",
   "execution_count": null,
   "metadata": {},
   "outputs": [],
   "source": [
    "err = df_test.transpose()[50:, :] - forecast\n",
    "abs_error = np.abs(df_test.transpose()[50:, :] - forecast)\n",
    "\n",
    "fig, (ax1, ax2, ax3) = plt.subplots(\n",
    "    3, sharex=True, sharey=True)  # , figsize=(15, 15))\n",
    "fig.suptitle('Absolute Error on Test Data')\n",
    "ax1.plot(time_test[50:], abs_error[:, 0])\n",
    "ax1.set_ylabel(r'$|x_{true}-x_{pred}|$')\n",
    "ax1.set_yscale('log')\n",
    "ax2.plot(time_test[50:], abs_error[:, 1])\n",
    "ax2.set_ylabel(r'$|y_{true}-y_{pred}|$')\n",
    "ax2.set_yscale('log')\n",
    "ax3.plot(time_test[50:], abs_error[:, 2])\n",
    "ax3.set_ylabel(r'$|z_{true}-z_{pred}|$')\n",
    "ax3.set_xlabel('t')\n",
    "ax3.set_yscale('log')\n",
    "ax3.legend(loc='center left', bbox_to_anchor=(1, 0.5))\n",
    "#fig.savefig(error_filepath, dpi=1000, facecolor=\"w\")"
   ]
  },
  {
   "cell_type": "code",
   "execution_count": null,
   "metadata": {},
   "outputs": [],
   "source": []
  }
 ],
 "metadata": {
  "interpreter": {
   "hash": "12dfb561970cfd3a0c79700abcce3f060c3d9f3c45d80594c54d868f07b2d125"
  },
  "kernelspec": {
   "display_name": "Python 3 (ipykernel)",
   "language": "python",
   "name": "python3"
  },
  "language_info": {
   "codemirror_mode": {
    "name": "ipython",
    "version": 3
   },
   "file_extension": ".py",
   "mimetype": "text/x-python",
   "name": "python",
   "nbconvert_exporter": "python",
   "pygments_lexer": "ipython3",
   "version": "3.8.10"
  }
 },
 "nbformat": 4,
 "nbformat_minor": 2
}
